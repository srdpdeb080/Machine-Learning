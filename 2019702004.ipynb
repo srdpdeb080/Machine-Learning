{
 "cells": [
  {
   "cell_type": "markdown",
   "metadata": {
    "editable": false
   },
   "source": [
    "# Assignment 1\n",
    "This jupyter notebook is meant to be used in conjunction with the full questions in the assignment pdf.\n",
    "\n",
    "## Instructions\n",
    "- Write your code and analyses in the indicated cells.\n",
    "- Ensure that this notebook runs without errors when the cells are run in sequence.\n",
    "- Do not attempt to change the contents of the other cells.\n",
    "\n",
    "## Submission\n",
    "- Ensure that this notebook runs without errors when the cells are run in sequence.\n",
    "- Rename the notebook to `<roll_number>.ipynb` and submit ONLY the notebook file on moodle."
   ]
  },
  {
   "cell_type": "markdown",
   "metadata": {
    "editable": false
   },
   "source": [
    "### Environment setup\n",
    "\n",
    "The following code reads the train and test data (provided along with this template) and outputs the data and labels as numpy arrays. Use these variables in your code.\n",
    "\n",
    "---\n",
    "#### Note on conventions\n",
    "In mathematical notation, the convention is tha data matrices are column-indexed, which means that a input data $x$ has shape $[d, n]$, where $d$ is the number of dimensions and $n$ is the number of data points, respectively.\n",
    "\n",
    "Programming languages have a slightly different convention. Data matrices are of shape $[n, d]$. This has the benefit of being able to access the ith data point as a simple `data[i]`.\n",
    "\n",
    "What this means is that you need to be careful about your handling of matrix dimensions. For example, while the covariance matrix (of shape $[d,d]$) for input data $x$ is calculated as $(x-u)(x-u)^T$, while programming you would do $(x-u)^T(x-u)$ to get the correct output shapes."
   ]
  },
  {
   "cell_type": "code",
   "execution_count": 1,
   "metadata": {
    "editable": false,
    "scrolled": true
   },
   "outputs": [
    {
     "name": "stdout",
     "output_type": "stream",
     "text": [
      "(6000, 784) (1000, 784)\n",
      "(6000,) (1000,)\n"
     ]
    }
   ],
   "source": [
    "from __future__ import print_function\n",
    "\n",
    "import numpy as np\n",
    "import matplotlib.pyplot as plt\n",
    "\n",
    "def read_data(filename):\n",
    "    with open(filename, 'r') as f:\n",
    "        lines = f.readlines()\n",
    "    \n",
    "    num_points = len(lines)\n",
    "    dim_points = 28 * 28\n",
    "    data = np.empty((num_points, dim_points))\n",
    "    labels = np.empty(num_points)\n",
    "    \n",
    "    for ind, line in enumerate(lines):\n",
    "        num = line.split(',')\n",
    "        labels[ind] = int(num[0])\n",
    "        data[ind] = [ int(x) for x in num[1:] ]\n",
    "        \n",
    "    return (data, labels)\n",
    "\n",
    "train_data, train_labels = read_data(\"sample_train.csv\")\n",
    "test_data, test_labels = read_data(\"sample_test.csv\")\n",
    "print(train_data.shape, test_data.shape)\n",
    "print(train_labels.shape, test_labels.shape)"
   ]
  },
  {
   "cell_type": "markdown",
   "metadata": {
    "editable": false
   },
   "source": [
    "# Questions\n",
    "---\n",
    "## 1.3.1 Representation\n",
    "The next code cells, when run, should plot the eigen value spectrum of the covariance matrices corresponding to the mentioned samples. Normalize the eigen value spectrum and only show the first 100 values."
   ]
  },
  {
   "cell_type": "code",
   "execution_count": 31,
   "metadata": {},
   "outputs": [
    {
     "data": {
      "image/png": "[encoded data removed]",
      "text/plain": [
       "<Figure size 432x288 with 1 Axes>"
      ]
     },
     "metadata": {
      "needs_background": "light"
     },
     "output_type": "display_data"
    }
   ],
   "source": [
    "# Samples corresponding to the last digit of your roll number (plot a)\n",
    "import numpy as np\n",
    "from numpy import linalg as LA\n",
    "import matplotlib.pyplot as plt\n",
    "\n",
    "a=[]\n",
    "for i in range(train_labels.shape[0]):\n",
    "    if (train_labels[i]==4):\n",
    "        a=np.concatenate((a,train_data[i]),axis=0)\n",
    "\n",
    "\n",
    "rows= int (np.round(a.shape[0]/784))\n",
    "a=np.reshape(a,(rows,784))\n",
    "c=np.cov(a.T)\n",
    "w,v=LA.eig(c)\n",
    "w[:]=(w[:]-np.min(w))/(np.max(w)-np.min(w))\n",
    "plt.plot(w[0:99])\n",
    "plt.show()"
   ]
  },
  {
   "cell_type": "code",
   "execution_count": 32,
   "metadata": {},
   "outputs": [
    {
     "data": {
      "image/png": "[encoded data removed]",
      "text/plain": [
       "<Figure size 432x288 with 1 Axes>"
      ]
     },
     "metadata": {
      "needs_background": "light"
     },
     "output_type": "display_data"
    }
   ],
   "source": [
    "# Samples corresponding to the last digit of (your roll number + 1) % 10 (plot b)\n",
    "\n",
    "import numpy as np\n",
    "from numpy import linalg as LA\n",
    "import matplotlib.pyplot as plt\n",
    "\n",
    "a=[]\n",
    "for i in range(train_labels.shape[0]):\n",
    "    if (train_labels[i]==5):\n",
    "        a=np.concatenate((a,train_data[i]),axis=0)\n",
    "\n",
    "\n",
    "rows= int (np.round(a.shape[0]/784))\n",
    "a=np.reshape(a,(rows,784))\n",
    "c=np.cov(a.T)\n",
    "w,v=LA.eig(c)\n",
    "w[:]=(w[:]-np.min(w))/(np.max(w)-np.min(w))\n",
    "plt.plot(w[0:99])\n",
    "plt.show()"
   ]
  },
  {
   "cell_type": "code",
   "execution_count": 3,
   "metadata": {},
   "outputs": [
    {
     "name": "stderr",
     "output_type": "stream",
     "text": [
      "c:\\users\\pc\\appdata\\local\\programs\\python\\python37-32\\lib\\site-packages\\numpy\\core\\_asarray.py:85: ComplexWarning: Casting complex values to real discards the imaginary part\n",
      "  return array(a, dtype, copy=False, order=order)\n"
     ]
    },
    {
     "data": {
      "image/png": "[encoded data removed]",
      "text/plain": [
       "<Figure size 432x288 with 1 Axes>"
      ]
     },
     "metadata": {
      "needs_background": "light"
     },
     "output_type": "display_data"
    }
   ],
   "source": [
    "# All training data (plot c)\n",
    "\n",
    "import numpy as np\n",
    "from numpy import linalg as LA\n",
    "import matplotlib.pyplot as plt\n",
    "\n",
    "a=[]\n",
    "for i in range(train_labels.shape[0]):\n",
    "    \n",
    "        a=np.concatenate((a,train_data[i]),axis=0)\n",
    "\n",
    "\n",
    "rows= int (np.round(a.shape[0]/784))\n",
    "a=np.reshape(a,(rows,784))\n",
    "c=np.cov(a.T)\n",
    "w,v=LA.eig(c)\n",
    "w[:]=(w[:]-np.min(w))/(np.max(w)-np.min(w))\n",
    "plt.plot(w[0:99])\n",
    "plt.show()"
   ]
  },
  {
   "cell_type": "code",
   "execution_count": 5,
   "metadata": {},
   "outputs": [
    {
     "data": {
      "image/png": "[encoded data removed]",
      "text/plain": [
       "<Figure size 432x288 with 1 Axes>"
      ]
     },
     "metadata": {
      "needs_background": "light"
     },
     "output_type": "display_data"
    }
   ],
   "source": [
    "# Randomly selected 50% of the training data (plot d)\n",
    "\n",
    "import numpy as np\n",
    "from numpy import linalg as LA\n",
    "import matplotlib.pyplot as plt\n",
    "\n",
    "a=train_data[np.random.choice(train_data.shape[0],3000,replace=False),:]\n",
    "\n",
    "c=np.cov(a.T)\n",
    "w,v=LA.eig(c)\n",
    "w[:]=(w[:]-np.min(w))/(np.max(w)-np.min(w))\n",
    "plt.plot(w[0:99])\n",
    "plt.show()\n"
   ]
  },
  {
   "cell_type": "markdown",
   "metadata": {
    "editable": false
   },
   "source": [
    "### 1.3.1 Question 1\n",
    "- Are plots a and b different? Why?\n",
    "- Are plots b and c different? Why?\n",
    "- What are the approximate ranks of each plot?"
   ]
  },
  {
   "cell_type": "markdown",
   "metadata": {},
   "source": [
    "---\n",
    "Your answers here (double click to edit)\n",
    "\n",
    "---"
   ]
  },
  {
   "cell_type": "markdown",
   "metadata": {
    "editable": false
   },
   "source": [
    "### 1.3.1 Question 2\n",
    "- How many possible images could there be?\n",
    "- What percentage is accessible to us as MNIST data?\n",
    "- If we had acces to all the data, how would the eigen value spectrum of the covariance matrix look?"
   ]
  },
  {
   "cell_type": "markdown",
   "metadata": {},
   "source": [
    "---\n",
    "Your answers here (double click to edit)\n",
    "\n",
    "Q: How many possible images could there be?\n",
    "A: 2^784\n",
    "\n",
    "Q:What percentage is accessible to us as MNIST data?\n",
    "A: (7000*100)/(2^784)\n",
    "\n",
    "---"
   ]
  },
  {
   "cell_type": "markdown",
   "metadata": {
    "editable": false
   },
   "source": [
    "## 1.3.2 Linear Transformation\n",
    "---\n",
    "### 1.3.2 Question 1\n",
    "How does the eigen spectrum change if the original data was multiplied by an orthonormal matrix? Answer analytically and then also validate experimentally."
   ]
  },
  {
   "cell_type": "markdown",
   "metadata": {},
   "source": [
    "---\n",
    "Analytical answer here (double click to edit)\n",
    "\n",
    "---"
   ]
  },
  {
   "cell_type": "code",
   "execution_count": 3,
   "metadata": {},
   "outputs": [
    {
     "name": "stderr",
     "output_type": "stream",
     "text": [
      "c:\\users\\pc\\appdata\\local\\programs\\python\\python37-32\\lib\\site-packages\\numpy\\core\\_asarray.py:85: ComplexWarning: Casting complex values to real discards the imaginary part\n",
      "  return array(a, dtype, copy=False, order=order)\n"
     ]
    },
    {
     "data": {
      "image/png": "[encoded data removed]",
      "text/plain": [
       "<Figure size 432x288 with 1 Axes>"
      ]
     },
     "metadata": {
      "needs_background": "light"
     },
     "output_type": "display_data"
    }
   ],
   "source": [
    "# Experimental validation here.\n",
    "# Multiply your data (train_data) with an orthonormal matrix and plot the\n",
    "# eigen value specturm of the new covariance matrix.\n",
    "\n",
    "# code goes here\n",
    "\n",
    "import numpy as np\n",
    "from numpy import linalg as LA\n",
    "import matplotlib.pyplot as plt\n",
    "\n",
    "A=[]\n",
    "for i in range(train_labels.shape[0]):\n",
    "    if (train_labels[i]==4):\n",
    "        A=np.concatenate((A,train_data[i]),axis=0)\n",
    "\n",
    "\n",
    "rows= int (np.round(A.shape[0]/784))\n",
    "A=np.reshape(A,(rows,784))\n",
    "\n",
    "n= 784\n",
    "\n",
    "H = np.random.rand(n, n)\n",
    "u, s, vh = np.linalg.svd(H, full_matrices=False)\n",
    "mat = u @ vh\n",
    "\n",
    "B=mat @ mat.T\n",
    "\n",
    "C=[]\n",
    "\n",
    "C=[[sum(a * b for a, b in zip(A_row, B_col))  \n",
    "                        for B_col in zip(*B)] \n",
    "                                for A_row in A] \n",
    "cov_mat=np.cov(C)\n",
    "w,v=LA.eig(cov_mat)\n",
    "w[:]=(w[:]-np.min(w))/(np.max(w)-np.min(w))\n",
    "plt.plot(w[0:99])\n",
    "plt.show()"
   ]
  },
  {
   "cell_type": "markdown",
   "metadata": {
    "editable": false
   },
   "source": [
    "### 1.3.2 Question 2\n",
    "If  samples  were  multiplied  by  784 × 784  matrix  of rank 1 or 2, (rank deficient matrices), how will the eigen spectrum look like?"
   ]
  },
  {
   "cell_type": "markdown",
   "metadata": {},
   "source": [
    "---\n",
    "Your answer here (double click to edit)\n",
    "\n",
    "---"
   ]
  },
  {
   "cell_type": "markdown",
   "metadata": {
    "editable": false
   },
   "source": [
    "### 1.3.2 Question 3\n",
    "Project the original data into the first and second eigenvectors and plot in 2D"
   ]
  },
  {
   "cell_type": "code",
   "execution_count": 5,
   "metadata": {},
   "outputs": [
    {
     "name": "stderr",
     "output_type": "stream",
     "text": [
      "c:\\users\\pc\\appdata\\local\\programs\\python\\python37-32\\lib\\site-packages\\numpy\\core\\_asarray.py:85: ComplexWarning: Casting complex values to real discards the imaginary part\n",
      "  return array(a, dtype, copy=False, order=order)\n"
     ]
    },
    {
     "data": {
      "image/png": "[encoded data removed]",
      "text/plain": [
       "<Figure size 432x288 with 1 Axes>"
      ]
     },
     "metadata": {
      "needs_background": "light"
     },
     "output_type": "display_data"
    }
   ],
   "source": [
    "# Plotting code here\n",
    "\n",
    "import numpy as np\n",
    "from numpy import linalg as LA\n",
    "import matplotlib.pyplot as plt\n",
    "\n",
    "A=[]\n",
    "for i in range(train_labels.shape[0]):\n",
    "    \n",
    "        A=np.concatenate((A,train_data[i]),axis=0)\n",
    "\n",
    "\n",
    "rows= int (np.round(A.shape[0]/784))\n",
    "A=np.reshape(A,(rows,784))\n",
    "D=A.T\n",
    "c=np.cov(D)\n",
    "w,v=LA.eig(c)\n",
    "\n",
    "v1=v[0]\n",
    "v2=v[1]\n",
    "v_new=np.concatenate((v1,v2),axis=0).reshape(2,784)\n",
    "\n",
    "new_mat=np.matmul(v_new,D)\n",
    "\n",
    "\n",
    "plt.plot(new_mat[0,:],new_mat[1,:],'x')\n",
    "\n",
    "\n",
    "plt.show()\n"
   ]
  },
  {
   "cell_type": "markdown",
   "metadata": {
    "editable": false
   },
   "source": [
    "## 1.3.3 Probabilistic View\n",
    "---\n",
    "In this section you will classify the test set by fitting multivariate gaussians on the train set, with different choices for decision boundaries. On running, your code should print the accuracy on your test set."
   ]
  },
  {
   "cell_type": "code",
   "execution_count": null,
   "metadata": {},
   "outputs": [],
   "source": [
    "# Print accuracy on the test set using MLE\n",
    "\n",
    "import matplotlib.pyplot as plt\n",
    "import numpy as np\n",
    "from numpy import linalg as LA\n",
    "def classify(x,k):    \n",
    "    mat = []\n",
    "    for i in range(train_data.shape[0]):\n",
    "        if train_labels[i]==k:\n",
    "            mat=np.concatenate((mat,train_data[i]), axis=0)\n",
    "\n",
    "    row= np.round(mat.shape[0]//784)\n",
    "    mat=np.reshape(mat,(row,784))\n",
    "    cov_mat=np.cov(mat.T)\n",
    "    inv=LA.pinv(cov_mat)\n",
    "    w, v = LA.eig(cov_mat)\n",
    "    d=0\n",
    "    for i in range(w.shape[0]):\n",
    "        if w[i]!=0:\n",
    "            d=d + np.log(w[i])\n",
    "    d=-0.5*d-312.8 \n",
    "    d=np.real(d)\n",
    "    z=np.mean(mat, axis = 0)\n",
    "    a=(x-z).dot(inv).dot((x-z).T)\n",
    "    return (a+d)\n",
    "\n",
    "def category(x,t):\n",
    "    count=0\n",
    "    val=np.zeros(10)\n",
    "    for j in range(10):\n",
    "        val[j]=classify(x,j)\n",
    "    min=val[0]\n",
    "    low=0\n",
    "    for i in range(10):\n",
    "        if val[i]<min:\n",
    "            min=val[i]\n",
    "            low=i\n",
    "    if t==low:\n",
    "        count+=1\n",
    "    return count\n",
    "\n",
    "count_fin=0\n",
    "n=int(train_data.shape[0])\n",
    "for i in range(20):\n",
    "    t=int(train_labels[i])\n",
    "    w = category(train_data[i],t)\n",
    "    count_fin = count_fin + w\n",
    "accuracy=count_fin/n\n",
    "print('Accuracy',accuracy)"
   ]
  },
  {
   "cell_type": "code",
   "execution_count": 9,
   "metadata": {},
   "outputs": [],
   "source": [
    "# Print accuracy on the test set using MAP\n",
    "# (assume a reasonable prior and mention it in the comments)"
   ]
  },
  {
   "cell_type": "code",
   "execution_count": 10,
   "metadata": {},
   "outputs": [],
   "source": [
    "# Print accuracy using Bayesian pairwise majority voting method"
   ]
  },
  {
   "cell_type": "code",
   "execution_count": null,
   "metadata": {},
   "outputs": [],
   "source": [
    "# Print accuracy using Simple Perpendicular Bisector majority voting method\n",
    "\n",
    "import matplotlib.pyplot as plt\n",
    "import numpy as np\n",
    "from numpy import linalg as LA\n",
    "def perp_bisector(x,k1,k2):\n",
    "    mat1 = []\n",
    "    mat2 = []\n",
    "    for i in range(train_data.shape[0]):\n",
    "        if train_labels[i]==k1:\n",
    "            mat1=np.concatenate((mat1,train_data[i]), axis=0)\n",
    "        if train_labels[i]==k2:\n",
    "            mat2=np.concatenate((mat2,train_data[i]), axis=0)\n",
    "    row1= np.round(mat1.shape[0]//784)\n",
    "    mat1=np.reshape(mat1,(row,784))\n",
    "    row2= np.round(mat2.shape[0]//784)\n",
    "    mat2=np.reshape(mat2,(row,784))\n",
    "    z1=np.mean(mat1, axis = 0)\n",
    "    z2=np.mean(mat2, axis = 0)\n",
    "    v=z2-z1\n",
    "    w=(z1+z2)/2\n",
    "    r1=(v.T).dot(z1-w)\n",
    "    r2=(v.T).dot(z2-w)\n",
    "    r=(v.T).dot(x-w)\n",
    "    count=0\n",
    "    if r*r1>=0:\n",
    "        return k1\n",
    "    elif r*r2>=0:\n",
    "        return k2\n",
    "         \n",
    "count=0   \n",
    "n=int(train_data.shape[0])\n",
    "for i in range(0,n):\n",
    "    val=np.zeros(10)\n",
    "    for k1 in range(10):\n",
    "        for k2 in range(k1):\n",
    "            r = perp_bisector(train_data[i],k1,k2) \n",
    "            val[r]+=1\n",
    "            if r==train_labels[i]:\n",
    "                count+=1\n",
    "accuracy=count/6000\n",
    "print('Accuracy',accuracy) "
   ]
  },
  {
   "cell_type": "markdown",
   "metadata": {
    "editable": false
   },
   "source": [
    "### 1.3.3 Question 4\n",
    "Compare performances and salient observations"
   ]
  },
  {
   "cell_type": "markdown",
   "metadata": {},
   "source": [
    "---\n",
    "Your analysis here (double click to edit)\n",
    "\n",
    "---"
   ]
  },
  {
   "cell_type": "markdown",
   "metadata": {
    "editable": false
   },
   "source": [
    "## 1.3.4 Nearest Neighbour based Tasks and Design\n",
    "---\n",
    "### 1.3.4 Question 1 : NN Classification with various K\n",
    "Implement a KNN classifier and print accuracies on the test set with K=1,3,7"
   ]
  },
  {
   "cell_type": "code",
   "execution_count": null,
   "metadata": {},
   "outputs": [],
   "source": [
    "# Your code here\n",
    "# Print accuracies with K = 1, 3, 7\n",
    "\n",
    "import operator\n",
    "def distance(val1, val2, n):\n",
    "    dist = 0\n",
    "    for i in range(n):\n",
    "        dist = dist + np.square(val1[i] - val2[i])\n",
    "    dist = np.sqrt(dist)\n",
    "\n",
    "    return dist\n",
    "\n",
    "def KNN(train_data, train_labels, test_data, k):\n",
    "    train = np.array(train_data)\n",
    "    new = []\n",
    "    col = train.shape[1]\n",
    "    dist = 0\n",
    "    for i in range(train.shape[0]):\n",
    "        dist = 0\n",
    "        dist = distance(test_data, train[i], col)\n",
    "        new.append((np.array(train[i]), np.array(train_labels[i]), dist))\n",
    "\n",
    "    new.sort(key = operator.itemgetter(2))\n",
    "    nn = []\n",
    "    for i in range(k):\n",
    "        nn.append(new[i][1])\n",
    "    return nn\n",
    "\n",
    "def getClass(nn):\n",
    "\n",
    "    hash = np.zeros((1,10))\n",
    "    for i in range(len(nn)):\n",
    "        hash[0][np.int(nn[i])] += 1\n",
    "    count = 0\n",
    "    for i in range(10):\n",
    "        if hash[0][i] > hash[0][count]:\n",
    "            count = i\n",
    "    return count\n",
    "\n",
    "def accuracy(prediction, original):\n",
    "    n = len(prediction)\n",
    "    count = 0\n",
    "    for i in range(n):\n",
    "        if prediction[i] == original[i]:\n",
    "            count = count + 1\n",
    "    acc = (count/(float(len(prediction))))*100\n",
    "    print(acc)\n",
    "    \n",
    "test_col = train_data.shape[0]\n",
    "prediction = []\n",
    "for i in range(2):\n",
    "    nn = KNN(train_data, train_labels, test_data[0], 3)\n",
    "    p = getClass(nn)\n",
    "    prediction.append(p)\n",
    "accuracy(prediction, test_labels)\n",
    "print(prediction)\n",
    "\n",
    "\n",
    "\n",
    " \n"
   ]
  },
  {
   "cell_type": "markdown",
   "metadata": {
    "editable": false
   },
   "source": [
    "### 1.3.4 Question 1 continued\n",
    "- Why / why not are the accuracies the same?\n",
    "- How do we identify the best K? Suggest a computational procedure with a logical explanation."
   ]
  },
  {
   "cell_type": "markdown",
   "metadata": {},
   "source": [
    "---\n",
    "Your analysis here (double click to edit)\n",
    "\n",
    "1. The accuracies are not the same. \n",
    "---"
   ]
  },
  {
   "cell_type": "markdown",
   "metadata": {
    "editable": false
   },
   "source": [
    "### 1.3.4 Question 2 :  Reverse NN based outlier detection\n",
    "A sample can be thought of as an outlier is it is NOT in the nearest neighbour set of anybody else. Expand this idea into an algorithm."
   ]
  },
  {
   "cell_type": "code",
   "execution_count": 13,
   "metadata": {
    "editable": false
   },
   "outputs": [
    {
     "name": "stdout",
     "output_type": "stream",
     "text": [
      "(20, 784)\n"
     ]
    }
   ],
   "source": [
    "# This cell reads mixed data containing both MNIST digits and English characters.\n",
    "# The labels for this mixed data are random and are hence ignored.\n",
    "mixed_data, _ = read_data(\"outliers.csv\")\n",
    "print(mixed_data.shape)"
   ]
  },
  {
   "cell_type": "markdown",
   "metadata": {
    "editable": false
   },
   "source": [
    "### 1.3.4 Question 3 : NN for regression\n",
    "Assume that each classID in the train set corresponds to a neatness score as:\n",
    "$$ neatness = \\frac{classID}{10} $$\n",
    "\n",
    "---\n",
    "Assume we had to predict the neatness score for each test sample using NN based techiniques on the train set. Describe the algorithm."
   ]
  },
  {
   "cell_type": "markdown",
   "metadata": {},
   "source": [
    "---\n",
    "Your algorithm here (double click to edit)\n",
    "\n",
    "We would define a neatness score parameter in the accuracy function, where the neatness score shall be defined as specified in the given mathematical expression and consequently define the mean absolute error as a function of the prediction and neatness score.\n",
    "\n",
    "---"
   ]
  },
  {
   "cell_type": "markdown",
   "metadata": {
    "editable": false
   },
   "source": [
    "### 1.3.4 Question 3 continued\n",
    "Validate your algorithm on the test set. This code should print mean absolute error on the test set, using the train set for NN based regression."
   ]
  },
  {
   "cell_type": "code",
   "execution_count": 14,
   "metadata": {},
   "outputs": [],
   "source": [
    "# Your code here\n",
    "\n",
    "import operator\n",
    "def distance(val1, val2, n):\n",
    "    dist = 0\n",
    "    for i in range(n):\n",
    "        dist = dist + np.square(val1[i] - val2[i])\n",
    "    dist = np.sqrt(dist)\n",
    "\n",
    "    return dist\n",
    "\n",
    "def KNN(train_data, train_labels, test_data, k):\n",
    "    train = np.array(train_data)\n",
    "    new = []\n",
    "    col = train.shape[1]\n",
    "    dist = 0\n",
    "    for i in range(train.shape[0]):\n",
    "        dist = 0\n",
    "        dist = distance(test_data, train[i], col)\n",
    "        new.append(((np.array(train[i]), np.array(train_labels[i]), dist)),neatness_score[i])\n",
    "\n",
    "    new.sort(key = operator.itemgetter(2))\n",
    "    nn = []\n",
    "    for i in range(k):\n",
    "        nn.append(new[i][1])\n",
    "    return nn\n",
    "\n",
    "def getClass(nn):\n",
    "\n",
    "    hash = np.zeros((1,10))\n",
    "    for i in range(len(nn)):\n",
    "        hash[0][np.int(nn[i])] += 1\n",
    "    count = 0\n",
    "    for i in range(10):\n",
    "        if hash[0][i] > hash[0][count]:\n",
    "            count = i\n",
    "    return count\n",
    "\n",
    "def accuracy(prediction, original):\n",
    "    n = len(prediction)\n",
    "    count = 0\n",
    "     neatness_score=train_labels/10\n",
    "    for i in range(n):\n",
    "        if prediction[i] == original[i]:\n",
    "            count = count + 1\n",
    "    acc = (count/(float(len(prediction))))*100\n",
    "    print(acc)\n",
    "    \n",
    "test_col = train_data.shape[0]\n",
    "prediction = []\n",
    "for i in range(2):\n",
    "    nn = KNN(train_data, train_labels, test_data[0], 3)\n",
    "    p = getClass(nn)\n",
    "    prediction.append(p)\n",
    "accuracy(prediction, test_labels)\n",
    "print(prediction)\n",
    "\n",
    "def MAE(prediction,neatness_score):\n",
    "    sum=0\n",
    "    for i in range(10):\n",
    "        sum+=(prediction-neatness_score)\n",
    "    return (sum/10) \n",
    "\n",
    "\n",
    "    acc=accuracy(prediction,neatness_score)\n",
    "    mae = MAE(prediction,neatness_score)\n",
    "    return acc,mae\n",
    "\n",
    "acc_1,mae=accuracy(1)\n",
    "print('For K = 1, Accuracy =',acc_1)\n",
    "print('MAE =',mae)                           \n",
    "\n",
    "acc_3,mae=accuracy(3)\n",
    "print('For K = 3, Accuracy =',acc_3)\n",
    "print('MAE =',mae)  \n",
    "\n",
    "acc_7,mae=accuracy(7)\n",
    "print('For K = 7, Accuracy =',acc_7)\n",
    "print('MAE =',mae) \n",
    "\n"
   ]
  },
  {
   "cell_type": "markdown",
   "metadata": {
    "editable": false
   },
   "source": [
    "---\n",
    "# FOLLOW THE SUBMISSION INSTRUCTIONS\n",
    "---"
   ]
  }
 ],
 "metadata": {
  "kernelspec": {
   "display_name": "Python 3",
   "language": "python",
   "name": "python3"
  },
  "language_info": {
   "codemirror_mode": {
    "name": "ipython",
    "version": 3
   },
   "file_extension": ".py",
   "mimetype": "text/x-python",
   "name": "python",
   "nbconvert_exporter": "python",
   "pygments_lexer": "ipython3",
   "version": "3.7.4"
  }
 },
 "nbformat": 4,
 "nbformat_minor": 2
}
