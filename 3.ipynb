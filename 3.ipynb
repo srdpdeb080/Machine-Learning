{
 "cells": [
  {
   "cell_type": "code",
   "execution_count": 2,
   "metadata": {},
   "outputs": [
    {
     "ename": "ModuleNotFoundError",
     "evalue": "No module named 'sympy'",
     "output_type": "error",
     "traceback": [
      "\u001b[1;31m---------------------------------------------------------------------------\u001b[0m",
      "\u001b[1;31mModuleNotFoundError\u001b[0m                       Traceback (most recent call last)",
      "\u001b[1;32m<ipython-input-2-c7458d5bc4c5>\u001b[0m in \u001b[0;36m<module>\u001b[1;34m\u001b[0m\n\u001b[0;32m      1\u001b[0m \u001b[1;31m#from sympy import symbols\u001b[0m\u001b[1;33m\u001b[0m\u001b[1;33m\u001b[0m\u001b[1;33m\u001b[0m\u001b[0m\n\u001b[1;32m----> 2\u001b[1;33m \u001b[1;32mimport\u001b[0m \u001b[0msympy\u001b[0m\u001b[1;33m\u001b[0m\u001b[1;33m\u001b[0m\u001b[0m\n\u001b[0m\u001b[0;32m      3\u001b[0m \u001b[1;32mfrom\u001b[0m \u001b[0msympy\u001b[0m\u001b[1;33m.\u001b[0m\u001b[0mplotting\u001b[0m \u001b[1;32mimport\u001b[0m \u001b[0mplot_implicit\u001b[0m\u001b[1;33m\u001b[0m\u001b[1;33m\u001b[0m\u001b[0m\n\u001b[0;32m      4\u001b[0m \u001b[1;32mimport\u001b[0m \u001b[0mnumpy\u001b[0m \u001b[1;32mas\u001b[0m \u001b[0mnp\u001b[0m\u001b[1;33m\u001b[0m\u001b[1;33m\u001b[0m\u001b[0m\n\u001b[0;32m      5\u001b[0m \u001b[1;32mimport\u001b[0m \u001b[0mmatplotlib\u001b[0m\u001b[1;33m.\u001b[0m\u001b[0mpyplot\u001b[0m \u001b[1;32mas\u001b[0m \u001b[0mplt\u001b[0m\u001b[1;33m\u001b[0m\u001b[1;33m\u001b[0m\u001b[0m\n",
      "\u001b[1;31mModuleNotFoundError\u001b[0m: No module named 'sympy'"
     ]
    }
   ],
   "source": [
    "from sympy import symbols\n",
    "import sympy\n",
    "from sympy.plotting import plot_implicit\n",
    "import numpy as np\n",
    "import matplotlib.pyplot as plt\n",
    "\n",
    "w1 = np.array([[0, 0, 2 , 3, 3, 2, 2],\n",
    "      [1, 1, 0, 2, 3, 2, 0]])\n",
    "w2 = np.array([[7, 8, 9, 8, 7, 8, 7],\n",
    "      [7, 6, 7, 10, 10, 9, 11]])\n",
    "\n",
    "mean1 = [np.mean(w1[0]), np.mean(w1[1])]\n",
    "mean2 = [np.mean(w2[0]), np.mean(w2[1])]\n",
    "cov1 = np.cov(w1)\n",
    "cov2 = np.cov(w2)\n",
    "print(mean1, mean2)\n",
    "print(cov1)\n",
    "print(cov2)\n",
    "w1 = np.array(w1.T - mean1)\n",
    "print(w1)\n",
    "x1 = symbols('x1')\n",
    "x2 = symbols('x2')\n",
    "p1 = (-1/2)*np.dot(np.dot([x1, x2], np.linalg.inv(cov1)), [[x1], [x2]]) - (1/2)*np.log(np.linalg.det(cov1))\n",
    "p2 = (-1/2)*np.dot(np.dot([x1, x2], np.linalg.inv(cov2)), [[x1], [x2]]) - (1/2)*np.log(np.linalg.det(cov2))\n",
    "p3 = p1 - p2\n",
    "# print(p1)\n",
    "# print(p2)\n",
    "print(p3)\n",
    "f = sympy.solve(p3, [x2])\n",
    "print(f)\n",
    "x = (np.arange(150.)-5)/10\n",
    "y = sympy.lambdify(x1, f, 'numpy')(x)\n",
    "print(x)\n",
    "plt.scatter(w1[0], w1[1])\n",
    "plt.scatter(w2[0], w2[1])\n",
    "plt.plot(x, np.transpose(y[0]))\n",
    "plt.show()"
   ]
  },
  {
   "cell_type": "code",
   "execution_count": null,
   "metadata": {},
   "outputs": [],
   "source": []
  }
 ],
 "metadata": {
  "kernelspec": {
   "display_name": "Python 3",
   "language": "python",
   "name": "python3"
  },
  "language_info": {
   "codemirror_mode": {
    "name": "ipython",
    "version": 3
   },
   "file_extension": ".py",
   "mimetype": "text/x-python",
   "name": "python",
   "nbconvert_exporter": "python",
   "pygments_lexer": "ipython3",
   "version": "3.7.4"
  }
 },
 "nbformat": 4,
 "nbformat_minor": 2
}
